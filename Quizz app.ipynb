{
 "cells": [
  {
   "cell_type": "code",
   "execution_count": null,
   "metadata": {},
   "outputs": [],
   "source": [
    "quiz = {\n",
    "    \"question 1\" : {\n",
    "        \"question\": \"name of the capital city of Pakistan?\",\n",
    "        \"options\" : ['islamabad','karachi','lahore'],\n",
    "        \"answer\" : \"islamabad\"\n",
    "    },\n",
    "    \"question 2\" : {\n",
    "        \"question\": \"what is the name of the your native village?\",\n",
    "        \"options\" : ['Chelhar' , 'Umerkot' , 'Kantio' , 'Mithi'],\n",
    "        \"answer\" : \"Chelhar\"\n",
    "    },\n",
    "    \"question 3\" : {\n",
    "        \"question\": \"name of the National game of Pakistan?\",\n",
    "        \"options\" : ['Cricket','football','Kabaddi','Hockey'],\n",
    "        \"answer\" : \"Hockey\"\n",
    "    },\n",
    "    \"question 4\" : {\n",
    "        \"question\": \"Your education Please\",\n",
    "        \"options\" : ['Bechlor' , 'Master' , 'Intermediate' , 'Matricluation'],\n",
    "        \"answer\" : \"Bechlor\"\n",
    "    },\n",
    "    \"question 5\" : {\n",
    "        \"question\": \"name of the national animal of Pakistan?\",\n",
    "        \"options\" : ['Cow','Goat','leopard','Markhor'],\n",
    "        \"answer\" : \"Markhor\"\n",
    "    }\n",
    "}\n",
    "\n",
    "total_marks = 0\n",
    "\n",
    "for i in quiz:\n",
    "    print(quiz[i]['question'])\n",
    "    for q in range(len(quiz[i][\"options\"])):\n",
    "        print(q+1,\")\",quiz[i][\"options\"][q])\n",
    "    user_answer = int(input(\"Enter The Correct option form 1 to \"+str(len(quiz[i][\"options\"]))+\" \"))\n",
    "    if quiz[i][\"options\"][user_answer-1] == quiz[i]['answer']:\n",
    "        total_marks +=1\n",
    "        print(total_marks)\n",
    "\n",
    "    \n",
    "avarage =total_marks/len(quiz)*100\n",
    "\n",
    "print(\"Your Total Marks is : \",int(avarage),\"%\")"
   ]
  },
  {
   "cell_type": "markdown",
   "metadata": {},
   "source": []
  }
 ],
 "metadata": {
  "kernelspec": {
   "display_name": "Python 3",
   "language": "python",
   "name": "python3"
  },
  "language_info": {
   "codemirror_mode": {
    "name": "ipython",
    "version": 3
   },
   "file_extension": ".py",
   "mimetype": "text/x-python",
   "name": "python",
   "nbconvert_exporter": "python",
   "pygments_lexer": "ipython3",
   "version": "3.7.3"
  }
 },
 "nbformat": 4,
 "nbformat_minor": 2
}
