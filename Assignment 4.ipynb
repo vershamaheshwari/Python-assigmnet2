{
 "cells": [
  {
   "cell_type": "code",
   "execution_count": 10,
   "metadata": {},
   "outputs": [
    {
     "name": "stdout",
     "output_type": "stream",
     "text": [
      "{'FirstName': 'iqbal', 'LastName': 'Anas', 'Age': 22, 'City': 'karachi', 'Quallification': 'Inter'}\n",
      "{'FirstName': 'iqbal', 'Age': 22, 'City': 'karachi', 'Quallification': 'Inter'}\n"
     ]
    }
   ],
   "source": [
    "#Ques no. 1\n",
    "person= {\n",
    "        \"FirstName\":\"iqbal\",\n",
    "        \"LastName\":\"Anas\",\n",
    "        \"Age\":22,\n",
    "        \"City\":\"karachi\"\n",
    "    }\n",
    "\n",
    "person.update({\"Quallification\" : \"Inter\"})\n",
    "print(person)\n",
    "del person[\"LastName\"]\n",
    "print(person)"
   ]
  },
  {
   "cell_type": "code",
   "execution_count": 45,
   "metadata": {},
   "outputs": [
    {
     "name": "stdout",
     "output_type": "stream",
     "text": [
      "The city name is :  Karachi \n",
      " {'country': 'Pakistan', 'population': 5741000, 'Fact': 'It is the Sixth largest city in the world by city population'}\n",
      "\n",
      "\n",
      "The city name is :  Mumbai \n",
      " {'country': 'India', 'population': 185064, 'Fact': 'It is the Sixth largest city in the world by city population'}\n",
      "\n",
      "\n",
      "The city name is :  Florence \n",
      " {'country': 'Italy', 'population': 1003285, 'Fact': 'Florence is regarded as one of the fashion capitals of the world.'}\n",
      "\n",
      "\n"
     ]
    }
   ],
   "source": [
    "#ques no. 2\n",
    "cities = {\n",
    "    'Karachi': {\n",
    "        'country': 'Pakistan',\n",
    "        'population': 5741000,\n",
    "        'Fact': 'It is the Sixth largest city in the world by city population'\n",
    "        },\n",
    "    'Mumbai': {\n",
    "        'country': 'India',\n",
    "        'population': 185064,\n",
    "        'Fact': 'It is the Sixth largest city in the world by city population'\n",
    "        },\n",
    "    'Florence': {\n",
    "        'country': 'Italy',\n",
    "        'population': 1003285,\n",
    "        'Fact': 'Florence is regarded as one of the fashion capitals of the world.'\n",
    "        }\n",
    "    }\n",
    "for key, value in cities.items():\n",
    "    print(\"The city name is : \",key,\"\\n\",value)\n",
    "    print(\"\\n\")\n"
   ]
  },
  {
   "cell_type": "code",
   "execution_count": 98,
   "metadata": {},
   "outputs": [
    {
     "name": "stdout",
     "output_type": "stream",
     "text": [
      "How many tickets you want to buy?2\n",
      "Enter your name : iqbal\n",
      "Enter your age22\n",
      "Ticket is $15\n",
      "Enter your name : yaseen\n",
      "Enter your age5\n",
      "Ticket is $10\n",
      "Your Total Cost is :  25\n"
     ]
    }
   ],
   "source": [
    "#Ques no. 03\n",
    "tickets=int(input(\"How many tickets you want to buy?\"))\n",
    "cost=0\n",
    "i=0\n",
    "while(i<tickets):\n",
    "    name=input(\"Enter your name : \")\n",
    "    age=int(input(\"Enter your age\"))\n",
    "    if age < 3:\n",
    "        print(\"Ticket is free.\")\n",
    "    elif age>=3 and age <=12:\n",
    "        print(\"Ticket is $10\")\n",
    "        cost+=10\n",
    "    elif age > 12 :\n",
    "        print(\"Ticket is $15\")\n",
    "        cost+=15\n",
    "    else:\n",
    "        print(\"Wrong input\")\n",
    "    i+=1\n",
    "\n",
    "print(\"Your Total Cost is : \",cost)"
   ]
  },
  {
   "cell_type": "code",
   "execution_count": 100,
   "metadata": {},
   "outputs": [
    {
     "name": "stdout",
     "output_type": "stream",
     "text": [
      "What is your favourite book ? Qura'an Shareef\n",
      "Qura'an Shareef  is one of my favourite book\n"
     ]
    }
   ],
   "source": [
    "def fav_book(title):\n",
    "    print(title,\" is one of my favourite book\")\n",
    "\n",
    "book=input(\"What is your favourite book ? \")\n",
    "fav_book(book)"
   ]
  },
  {
   "cell_type": "code",
   "execution_count": 112,
   "metadata": {},
   "outputs": [
    {
     "name": "stdout",
     "output_type": "stream",
     "text": [
      "Hello! What is your name?\n",
      "sd\n",
      "Well, sd, I am thinking of a number between 1 and 20.\n",
      "Take a guess.\n",
      "6\n",
      "Your guess is too low.\n",
      "Take a guess.\n",
      "2\n",
      "Your guess is too low.\n",
      "Take a guess.\n",
      "4\n",
      "Your guess is too low.\n",
      "Take a guess.\n",
      "15\n",
      "Your guess is too low.\n",
      "Take a guess.\n",
      "19\n",
      "Good job, sd! You guessed my number in 5 guesses!\n"
     ]
    }
   ],
   "source": [
    "import random\n",
    "\n",
    "guessesTaken = 0\n",
    "\n",
    "print('Hello! What is your name?')\n",
    "myName = input()\n",
    "number = random.randint(1, 20)\n",
    "\n",
    "print('Well, ' + myName + ', I am thinking of a number between 1 and 20.')\n",
    "while guessesTaken < 6:\n",
    "\n",
    "    print('Take a guess.') # There are four spaces in front of print.\n",
    "    guess = int(input())\n",
    "    guessesTaken = guessesTaken + 1\n",
    "    if guess < number:\n",
    "        print('Your guess is too low.') # There are eight spaces in front of print.\n",
    "    if guess > number:\n",
    "        print('Your guess is too high.')\n",
    "    if guess == number:\n",
    "        break\n",
    "if guess == number:\n",
    "    guessesTaken = str(guessesTaken)\n",
    "    print('Good job, ' + myName + '! You guessed my number in ' + guessesTaken + ' guesses!')\n",
    "if guess != number:\n",
    "    number = str(number)\n",
    "    print('Nope. The number I was thinking of was ' + number)"
   ]
  },
  {
   "cell_type": "code",
   "execution_count": null,
   "metadata": {},
   "outputs": [],
   "source": []
  },
  {
   "cell_type": "code",
   "execution_count": null,
   "metadata": {},
   "outputs": [],
   "source": []
  }
 ],
 "metadata": {
  "kernelspec": {
   "display_name": "Python 3",
   "language": "python",
   "name": "python3"
  },
  "language_info": {
   "codemirror_mode": {
    "name": "ipython",
    "version": 3
   },
   "file_extension": ".py",
   "mimetype": "text/x-python",
   "name": "python",
   "nbconvert_exporter": "python",
   "pygments_lexer": "ipython3",
   "version": "3.7.4"
  }
 },
 "nbformat": 4,
 "nbformat_minor": 2
}
