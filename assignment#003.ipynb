{
 "cells": [
  {
   "cell_type": "code",
   "execution_count": 7,
   "metadata": {},
   "outputs": [
    {
     "name": "stdout",
     "output_type": "stream",
     "text": [
      "enter number5\n",
      "enter number5\n",
      "enter operator/\n",
      "1.0\n"
     ]
    }
   ],
   "source": [
    "\"\"\"1. Make a calculator using Python with addition , subtraction , multiplication ,\n",
    "division and power.\"\"\"\n",
    "\n",
    "a = int(input(\"enter number\"))\n",
    "b = int(input(\"enter number\"))\n",
    "operator = input(\"enter operator\")\n",
    "\n",
    "if operator == \"+\" :\n",
    "    c = a+b\n",
    "    print(c)\n",
    "elif operator == \"-\" :\n",
    "    c = a-b\n",
    "    print(c)\n",
    "elif operator == \"*\" :\n",
    "    c = a*b\n",
    "    print(c)\n",
    "elif operator == \"/\" :\n",
    "    c = a/b\n",
    "    print(c)\n",
    "elif operator == \"**\" :\n",
    "    c = a**b\n",
    "    print(c)\n",
    "else :\n",
    "    print(\"enter valid value\")"
   ]
  },
  {
   "cell_type": "code",
   "execution_count": null,
   "metadata": {},
   "outputs": [],
   "source": [
    "\"\"\"2. Write a program to check if there is any numeric value in list using for loop\"\"\"\n",
    "\n",
    "a = 34\n",
    "b = type(a)\n",
    "print(b)\n",
    "if type ==int :\n",
    "  for d in b :\n",
    "    if b == d :\n",
    "        print(\"int\")\n",
    "  else :\n",
    "        print(\"str\")\n",
    "  \n"
   ]
  },
  {
   "cell_type": "code",
   "execution_count": null,
   "metadata": {},
   "outputs": [],
   "source": [
    "\"\"\"3. Write a Python script to add a key to a dictionary\"\"\"\n",
    "\n",
    "a = {\"name\": \"versha\",\n",
    "     \"cast\": \"kumari\",\n",
    "    }\n",
    "a[\"number\"] = \"private \"\n",
    "print(a)"
   ]
  },
  {
   "cell_type": "code",
   "execution_count": null,
   "metadata": {},
   "outputs": [],
   "source": [
    "\"\"\"4. Write a Python program to sum all the numeric items in a dictionary\"\"\"\n",
    "numeric_value = {\"value1\":5,\"value2\":66,\"value3\":88,\"value4\":-99}\n",
    "print(sum(numeric_value.values()))\n"
   ]
  },
  {
   "cell_type": "code",
   "execution_count": null,
   "metadata": {},
   "outputs": [],
   "source": [
    "\"\"\"5. Write a program to identify duplicate values from list\"\"\"\n",
    "\n",
    "lst = [ 3, 6, 9, 12, 3, 30, 15, 9, 45, 36, 12, 12]\n",
    "dupItems = []\n",
    "uniqItems = {}\n",
    "for x in lst:\n",
    "   if x not in uniqItems:\n",
    "      uniqItems[x] = 1\n",
    "   else:\n",
    "      if uniqItems[x] == 1:\n",
    "         dupItems.append(x)\n",
    "      uniqItems[x] += 1\n",
    "print(dupItems\n",
    "      \n",
    "      "
   ]
  },
  {
   "cell_type": "code",
   "execution_count": null,
   "metadata": {},
   "outputs": [],
   "source": [
    "\"\"\"6. Write a Python script to check if a given key already exists in a dictionary\"\"\"\n",
    "\n",
    "unable to do i didnt understand that \n",
    "\n"
   ]
  }
 ],
 "metadata": {
  "kernelspec": {
   "display_name": "Python 3",
   "language": "python",
   "name": "python3"
  },
  "language_info": {
   "codemirror_mode": {
    "name": "ipython",
    "version": 3
   },
   "file_extension": ".py",
   "mimetype": "text/x-python",
   "name": "python",
   "nbconvert_exporter": "python",
   "pygments_lexer": "ipython3",
   "version": "3.7.3"
  }
 },
 "nbformat": 4,
 "nbformat_minor": 2
}
