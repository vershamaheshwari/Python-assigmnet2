{
 "cells": [
  {
   "cell_type": "code",
   "execution_count": null,
   "metadata": {},
   "outputs": [],
   "source": [
    "\"\"\"1. Write a program which takes 5 inputs from user for different subject’s\n",
    "marks, total it and generate mark sheet using grades ?\"\"\"\n",
    "\n",
    "sub1 = int(input(\"Enter marks of Physics\"))\n",
    "sub2 = int(input(\"Enter marks of Chemsitry\"))\n",
    "sub3 = int(input(\"Enter marks of first Calculus\"))\n",
    "sub4 = int(input(\"Enter marks of first Artifical Intellgience\"))\n",
    "sub5 = int(input(\"Enter marks of first English\"))  \n",
    "avg = (sub1+sub2+sub3+sub3+sub4+sub5)/5\n",
    "\n",
    "if avg>= 90 :\n",
    "    print(\"Grade A+\")\n",
    "elif avg>=80 and avg<=70 :\n",
    "     print(\"Grade A\")\n",
    "elif avg>=60 and avg<=70 :\n",
    "     print(\"Grade B\")\n",
    "elif avg>=50 and avg<=60 :\n",
    "     print(\"Grade C\")\n",
    "else :\n",
    "     print(\"Grade F\")"
   ]
  },
  {
   "cell_type": "code",
   "execution_count": null,
   "metadata": {},
   "outputs": [],
   "source": [
    "\"\"\"2. Write a program which take input from user and identify that the given\n",
    "number is even or odd?\"\"\"\n",
    "\n",
    "a = 5\n",
    "b = 6    \n",
    "\n",
    "num = int(input(\"Enter number\"))\n",
    "\n",
    "if num == 5 :\n",
    "    print(\"Odd\")\n",
    "else :\n",
    "    print(\"even\")\n",
    "    \n"
   ]
  },
  {
   "cell_type": "code",
   "execution_count": null,
   "metadata": {},
   "outputs": [],
   "source": [
    "\"\"\"3. Write a program which print the length of the list?\"\"\"\n",
    "\n",
    "a = []  \n",
    "a.append(\"Geeks\") \n",
    "a.append(\"For\") \n",
    "a.append(\"Geeks\") \n",
    "print(\"The length of list is: \", len(a))"
   ]
  },
  {
   "cell_type": "code",
   "execution_count": null,
   "metadata": {},
   "outputs": [],
   "source": [
    "\"\"\"4. Write a Python program to sum all the numeric items in a list?\"\"\"\n",
    "List = [12 , 55 , 110 , 88 , 66 , 99]\n",
    "print(sum(List))"
   ]
  },
  {
   "cell_type": "code",
   "execution_count": null,
   "metadata": {},
   "outputs": [],
   "source": [
    "\"\"\"5. Write a Python program to get the largest number from a numeric list.\"\"\"\n",
    "\n",
    "a = [5 , 10, 100, 55 , 1000]\n",
    "print(max(a))"
   ]
  },
  {
   "cell_type": "code",
   "execution_count": null,
   "metadata": {},
   "outputs": [],
   "source": [
    "\"\"\"6. Take a list, say for example this one:\n",
    "a = [1, 1, 2, 3, 5, 8, 13, 21, 34, 55, 89]\n",
    "and write a program that prints out all the elements of the list that are\n",
    "less than 5.\"\"\"\n",
    "\n",
    "a = [1, 1, 2, 3, 5, 8, 13, 21, 34, 55, 89]\n",
    "a = a [ 0 : 4]\n",
    "print(a)\n",
    "\n"
   ]
  },
  {
   "cell_type": "code",
   "execution_count": null,
   "metadata": {},
   "outputs": [],
   "source": []
  }
 ],
 "metadata": {
  "kernelspec": {
   "display_name": "Python 3",
   "language": "python",
   "name": "python3"
  },
  "language_info": {
   "codemirror_mode": {
    "name": "ipython",
    "version": 3
   },
   "file_extension": ".py",
   "mimetype": "text/x-python",
   "name": "python",
   "nbconvert_exporter": "python",
   "pygments_lexer": "ipython3",
   "version": "3.7.3"
  }
 },
 "nbformat": 4,
 "nbformat_minor": 2
}
